{
 "cells": [
  {
   "cell_type": "code",
   "execution_count": 7,
   "metadata": {},
   "outputs": [],
   "source": [
    "import numpy as np\n",
    "import seaborn as sns\n",
    "import matplotlib.pyplot as plt\n",
    "%matplotlib inline"
   ]
  },
  {
   "cell_type": "code",
   "execution_count": 8,
   "metadata": {
    "collapsed": true
   },
   "outputs": [],
   "source": [
    "def simbootstrap(data):\n",
    "    k = int(np.ceil(float(data.shape[0])/1))\n",
    "    r_ind = np.floor(np.random.rand(1,k)*data.shape[0])\n",
    "    bootstrapsample=data[r_ind.astype('int')]\n",
    "    return bootstrapsample"
   ]
  },
  {
   "cell_type": "code",
   "execution_count": 9,
   "metadata": {
    "collapsed": true
   },
   "outputs": [],
   "source": [
    "\n",
    "resamples=100 #how many times we sample the population\n",
    "n=100 # how many data points we have in our sample\n",
    "bootstraps=100 #how many bootstraps samples are collected on this sample\n",
    "\n",
    "#adding 'noisy' data\n",
    "intercept=5\n",
    "variance=10\n",
    "error_rarity=n/2\n",
    "\n",
    "#initializing\n",
    "bootstrapdata=[];\n",
    "samplemeans=[];\n",
    "finalbootstrapmeans=[];\n",
    "\n",
    "\n",
    "for num in range(resamples):\n",
    "    bootstrapdata=[]\n",
    "    data=np.random.randn(n) #create data\n",
    "    m=n/error_rarity #length of 'noisy' data\n",
    "    morevariancedata= variance * np.random.randn(int(m)) + intercept #create noisy data\n",
    "    alldata=data.tolist() + morevariancedata.tolist() #add noisy data\n",
    "    data=np.asarray(alldata)\n",
    "    samplemeans.append(data.mean()) #create sample mean and append to sample mean list\n",
    "    \n",
    "    for nums in range(bootstraps):\n",
    "        tempsample= simbootstrap(data).mean() #bootstrap sample\n",
    "        bootstrapdata.append(tempsample) #append bootstrap to list\n",
    "    \n",
    "    finalbootstrapmeans.append(bootstrapdata) #take mean of all bootstraps for this sample\n",
    "        \n",
    "\n",
    "\n",
    "finalbootstrapmeans=np.asarray(finalbootstrapmeans).ravel()\n",
    "samplemeans=np.asarray(samplemeans)"
   ]
  },
  {
   "cell_type": "code",
   "execution_count": 10,
   "metadata": {},
   "outputs": [
    {
     "data": {
      "image/png": "[encoded data removed]",
      "text/plain": [
       "<matplotlib.figure.Figure at 0x11193d6a0>"
      ]
     },
     "metadata": {},
     "output_type": "display_data"
    }
   ],
   "source": [
    "sns.kdeplot(samplemeans, label=\"samplemeans\")\n",
    "sns.kdeplot(finalbootstrapmeans, label=\"bootstrapmeans\")\n",
    "#ns.kdeplot(samplemeans, bw=.2, label=\"bw: 0.2\")\n",
    "#sns.kdeplot(samplemeans, bw=2, label=\"bw: 2\")\n",
    "plt.legend();"
   ]
  },
  {
   "cell_type": "code",
   "execution_count": null,
   "metadata": {
    "collapsed": true
   },
   "outputs": [],
   "source": []
  }
 ],
 "metadata": {
  "kernelspec": {
   "display_name": "Python 3",
   "language": "python",
   "name": "python3"
  },
  "language_info": {
   "codemirror_mode": {
    "name": "ipython",
    "version": 3
   },
   "file_extension": ".py",
   "mimetype": "text/x-python",
   "name": "python",
   "nbconvert_exporter": "python",
   "pygments_lexer": "ipython3",
   "version": "3.6.1"
  }
 },
 "nbformat": 4,
 "nbformat_minor": 2
}
